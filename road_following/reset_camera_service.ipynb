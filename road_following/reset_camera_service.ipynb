{
 "cells": [
  {
   "cell_type": "markdown",
   "id": "c5c3dc8b",
   "metadata": {},
   "source": [
    "# Reset camera service"
   ]
  },
  {
   "cell_type": "markdown",
   "id": "b3586823",
   "metadata": {},
   "source": [
    "Run the following command to restart the camera service, in case you run into a trouble using the camera.\n"
   ]
  },
  {
   "cell_type": "code",
   "execution_count": 2,
   "id": "582919b9",
   "metadata": {
    "tags": []
   },
   "outputs": [
    {
     "name": "stdout",
     "output_type": "stream",
     "text": [
      "[sudo] password for jetson: "
     ]
    }
   ],
   "source": [
    "!echo $USER | sudo -S systemctl restart nvargus-daemon "
   ]
  },
  {
   "cell_type": "code",
   "execution_count": null,
   "id": "58736227",
   "metadata": {},
   "outputs": [],
   "source": []
  }
 ],
 "metadata": {
  "kernelspec": {
   "display_name": "Python 3",
   "language": "python",
   "name": "python3"
  },
  "language_info": {
   "codemirror_mode": {
    "name": "ipython",
    "version": 3
   },
   "file_extension": ".py",
   "mimetype": "text/x-python",
   "name": "python",
   "nbconvert_exporter": "python",
   "pygments_lexer": "ipython3",
   "version": "3.6.9"
  }
 },
 "nbformat": 4,
 "nbformat_minor": 5
}
