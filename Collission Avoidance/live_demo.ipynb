{
 "cells": [
  {
   "cell_type": "markdown",
   "metadata": {},
   "source": [
    "# Collision Avoidance - Live Demo\n",
    "In this notebook we'll use the model we trained to detect whether the robot is free or blocked to enable a collision avoidance behavior on the robot. It is assumed that the optimized neural network has already been created and loaded into the Jupyter Lab file browser.\n",
    "\n",
    "## TensorRT"
   ]
  },
  {
   "cell_type": "code",
   "execution_count": 1,
   "metadata": {},
   "outputs": [],
   "source": [
    "import os\n",
    "\n",
    "os.environ[\"CUDA_DEVICE_ORDER\"] = \"PCI_BUS_ID\"\n",
    "os.environ[\"CUDA_VISIBLE_DEVICES\"] = \"0\""
   ]
  },
  {
   "cell_type": "code",
   "execution_count": 2,
   "metadata": {},
   "outputs": [
    {
     "name": "stderr",
     "output_type": "stream",
     "text": [
      "WARNING: Carrier board is not from a Jetson Developer Kit.\n",
      "WARNNIG: Jetson.GPIO library has not been verified with this carrier board,\n",
      "WARNING: and in fact is unlikely to work correctly.\n"
     ]
    }
   ],
   "source": [
    "import cv2\n",
    "import torch\n",
    "from torchvision.models import resnet18\n",
    "from torch2trt import TRTModule\n",
    "from jetracer.nvidia_racecar import NvidiaRacecar\n",
    "from jetcam.csi_camera import CSICamera\n",
    "import torchvision.transforms as transforms\n",
    "import PIL.Image\n",
    "\n",
    "# from utils import preprocess\n",
    "import torch.nn.functional as F\n",
    "import numpy as np\n",
    "import time"
   ]
  },
  {
   "cell_type": "code",
   "execution_count": 3,
   "metadata": {},
   "outputs": [],
   "source": [
    "device = torch.device('cuda')"
   ]
  },
  {
   "cell_type": "markdown",
   "metadata": {},
   "source": [
    "Load the optimized model by executing the cell below."
   ]
  },
  {
   "cell_type": "code",
   "execution_count": 4,
   "metadata": {},
   "outputs": [
    {
     "data": {
      "text/plain": [
       "<All keys matched successfully>"
      ]
     },
     "execution_count": 4,
     "metadata": {},
     "output_type": "execute_result"
    }
   ],
   "source": [
    "model_trt = TRTModule().to(device)\n",
    "model_trt.load_state_dict(torch.load('best_model_resnet18_trt.pth', map_location=torch.device('cuda')))"
   ]
  },
  {
   "cell_type": "code",
   "execution_count": null,
   "metadata": {},
   "outputs": [],
   "source": []
  },
  {
   "cell_type": "markdown",
   "metadata": {},
   "source": [
    "Inizialize `car` and `camera` objects."
   ]
  },
  {
   "cell_type": "code",
   "execution_count": 5,
   "metadata": {},
   "outputs": [],
   "source": [
    "car = NvidiaRacecar()\n",
    "camera = CSICamera(width=224, height=224, capture_fps=65)"
   ]
  },
  {
   "cell_type": "code",
   "execution_count": 6,
   "metadata": {},
   "outputs": [],
   "source": [
    "# device = torch.device('cuda')"
   ]
  },
  {
   "cell_type": "code",
   "execution_count": 7,
   "metadata": {},
   "outputs": [],
   "source": [
    "mean = torch.Tensor([0.485, 0.456, 0.406]).cuda().half()\n",
    "std = torch.Tensor([0.229, 0.224, 0.225]).cuda().half()\n",
    "\n",
    "def preprocess(image):\n",
    "    image = PIL.Image.fromarray(image)\n",
    "    image = transforms.functional.to_tensor(image).to(device).half()\n",
    "    image.sub_(mean[:, None, None]).div_(std[:, None, None])\n",
    "    return image[None, ...]"
   ]
  },
  {
   "cell_type": "code",
   "execution_count": 8,
   "metadata": {},
   "outputs": [
    {
     "name": "stdout",
     "output_type": "stream",
     "text": [
      "True\n"
     ]
    }
   ],
   "source": [
    "print(torch.cuda.is_available())"
   ]
  },
  {
   "cell_type": "markdown",
   "metadata": {},
   "source": [
    "## Live Demo"
   ]
  },
  {
   "cell_type": "markdown",
   "metadata": {},
   "source": [
    "Due to the JetRacer's limited steering angle and obstacle visibility during the steering process, a specific time interval is required for successful obstacle avoidance. In the suggested demo, the robot will steer for 2 seconds upon obstacle detection. Nevertheless, this value should be dynamically modified to align with specific operational needs."
   ]
  },
  {
   "cell_type": "code",
   "execution_count": 9,
   "metadata": {},
   "outputs": [],
   "source": [
    "car.throttle = 0.0 \n",
    "car.steering = 0.0"
   ]
  },
  {
   "cell_type": "code",
   "execution_count": 10,
   "metadata": {},
   "outputs": [],
   "source": [
    "# car.throttle = 0.1\n",
    "car.steering_gain = 1"
   ]
  },
  {
   "cell_type": "code",
   "execution_count": null,
   "metadata": {},
   "outputs": [],
   "source": [
    "# import time\n",
    "# import torch\n",
    "# import torch.nn.functional as F\n",
    "\n",
    "prob_blocked = 0\n",
    "COLLISION_THRESHOLD = 0.92\n",
    "AVOIDANCE_DURATION = 2.0  # Time to turn left (in seconds)\n",
    "RETURN_DURATION = 1.5  # Time to turn right (in seconds)\n",
    "STRAIGHT_DURATION = 1.0  # Time to go straight before resuming normal operation\n",
    "\n",
    "# Possible states\n",
    "NORMAL = 0\n",
    "AVOIDING = 1\n",
    "RETURNING = 2\n",
    "STRAIGHTENING = 3\n",
    "\n",
    "state = NORMAL\n",
    "action_start_time = 0\n",
    "\n",
    "while True:\n",
    "    image = camera.read()\n",
    "    image_proc = preprocess(image)\n",
    "    output = model_trt(image_proc)\n",
    "    y = F.softmax(output, dim=1)\n",
    "    prob_blocked = float(y.flatten()[0])\n",
    "    \n",
    "    print(f\"Collision probability: {prob_blocked:.4f}, State: {state}\")\n",
    "    \n",
    "    current_time = time.time()\n",
    "    \n",
    "    if state == NORMAL:\n",
    "        if prob_blocked > COLLISION_THRESHOLD:\n",
    "            print(f\"Obstacle detected! Probability: {prob_blocked:.4f}\")\n",
    "            car.steering = 0.9  # Turn left\n",
    "            state = AVOIDING\n",
    "            action_start_time = current_time\n",
    "        else:\n",
    "            car.steering = 0.0  # Go straight\n",
    "    \n",
    "    elif state == AVOIDING:\n",
    "        if current_time - action_start_time >= AVOIDANCE_DURATION:\n",
    "            print(\"Avoidance complete, returning to track\")\n",
    "            car.steering = -0.9  # Turn right\n",
    "            state = RETURNING\n",
    "            time.sleep(0.05)\n",
    "            action_start_time = current_time\n",
    "    \n",
    "    elif state == RETURNING:\n",
    "        if current_time - action_start_time >= RETURN_DURATION:\n",
    "            print(\"Return complete, straightening\")\n",
    "            car.steering = 0.0  # Go straight\n",
    "            state = STRAIGHTENING\n",
    "            action_start_time = current_time\n",
    "    \n",
    "    elif state == STRAIGHTENING:\n",
    "        if current_time - action_start_time >= STRAIGHT_DURATION:\n",
    "            print(\"Resuming normal operation\")\n",
    "            state = NORMAL\n",
    "    \n",
    "    # Adjust throttle based on state\n",
    "    if state == NORMAL:\n",
    "        car.throttle = 0.2\n",
    "    else:\n",
    "        car.throttle = 0.2  # Slower speed during maneuvers\n",
    "    \n",
    "    # Optional: Add a small delay to control the loop rate\n",
    "#     time.sleep(0.01)"
   ]
  },
  {
   "cell_type": "code",
   "execution_count": 11,
   "metadata": {},
   "outputs": [
    {
     "data": {
      "application/vnd.jupyter.widget-view+json": {
       "model_id": "528ec1d938dc40289218bcfd92220d02",
       "version_major": 2,
       "version_minor": 0
      },
      "text/plain": [
       "HBox(children=(Image(value=b'', format='jpeg', height='224', width='224'), FloatSlider(value=0.0, description=…"
      ]
     },
     "metadata": {},
     "output_type": "display_data"
    }
   ],
   "source": [
    "from jetcam.utils import bgr8_to_jpeg\n",
    "from IPython.display import display\n",
    "import ipywidgets\n",
    "import traitlets\n",
    "\n",
    "widget = ipywidgets.Image(format='jpeg', width=camera.width, height=camera.height)\n",
    "blocked_slider = ipywidgets.FloatSlider(description='blocked', min=0.0, max=1.0, orientation='vertical')\n",
    "# traitlets.dlink((camera, 'value'), (widget, 'value'), transform=bgr8_to_jpeg)\n",
    "\n",
    "\n",
    "display(ipywidgets.HBox([widget, blocked_slider]))"
   ]
  },
  {
   "cell_type": "code",
   "execution_count": 12,
   "metadata": {},
   "outputs": [],
   "source": [
    "car.throttle = 0.0\n",
    "car.steering = 0.0"
   ]
  },
  {
   "cell_type": "code",
   "execution_count": 13,
   "metadata": {},
   "outputs": [],
   "source": [
    "prob_blocked = 0\n",
    "threshold = 0.5\n",
    "\n",
    "turning = False  # Flag to indicate if the car is turning\n",
    "turn_time = time.time()  # Start a timer\n",
    "# print(\"turn time\", turn_time)\n",
    "car.throttle = 0.3\n",
    "def update(change):\n",
    "    global blocked_slider, turning\n",
    "    image = change['new']\n",
    "#     image = camera.read()\n",
    "    image_proc = preprocess(image)\n",
    "    output = model_trt(image_proc)\n",
    "    y = F.softmax(output, dim=1)\n",
    "    prob_blocked = float(y.flatten()[0])\n",
    "    widget.value = bgr8_to_jpeg(image)\n",
    "    blocked_slider.value = prob_blocked\n",
    "#     print(prob_blocked)\n",
    "\n",
    "    \n",
    "    if  prob_blocked> 0.7 and not turning:\n",
    "        car.throttle = 0.1\n",
    "        car.steering = -0.6\n",
    "#         time.sleep(0.1)\n",
    "        turning = True\n",
    "\n",
    "    if turning:\n",
    "        car.throttle = 0.0\n",
    "#         car.steering = 1\n",
    "        \n",
    "        \n",
    "#         car.throttle = 0.1\n",
    "#     elif  prob_blocked >0.92:\n",
    "#         car.throttle = 0.0\n",
    "# #         break\n",
    "#     else :\n",
    "#         print(\"===========\", str(prob_blocked))\n",
    "#         car.throttle = 0.0\n",
    "\n",
    "#     elif prob_blocked > threshold and not turning:\n",
    "#         car.steering = 0.9  # Choose a steering angle\n",
    "#         turning = True  # Set the turning flag\n",
    "#         turn_time = time.time()  # Start a timer\n",
    "\n",
    "#     if prob_blocked < threshold and turning:\n",
    "#         if time.time() - turn_time >= 2:\n",
    "#             car.steering_gain = 1\n",
    "#             car.steering = -0.9  # Straighten the wheels\n",
    "#             turning = False  # Clear the turning flag\n",
    "    \n",
    "#     car.throttle = 0.3  # Choose car.throttle\n",
    "    time.sleep(0.001)\n",
    "update({'new': camera.value})\n"
   ]
  },
  {
   "cell_type": "code",
   "execution_count": 14,
   "metadata": {},
   "outputs": [],
   "source": [
    "camera.observe(update, names='value')  # this attaches the 'update' function to the 'value' traitlet of our camera\n"
   ]
  },
  {
   "cell_type": "code",
   "execution_count": 15,
   "metadata": {},
   "outputs": [],
   "source": [
    "camera.running = True"
   ]
  },
  {
   "cell_type": "code",
   "execution_count": null,
   "metadata": {},
   "outputs": [],
   "source": []
  },
  {
   "cell_type": "code",
   "execution_count": null,
   "metadata": {},
   "outputs": [],
   "source": []
  }
 ],
 "metadata": {
  "kernelspec": {
   "display_name": "Python 3",
   "language": "python",
   "name": "python3"
  },
  "language_info": {
   "codemirror_mode": {
    "name": "ipython",
    "version": 3
   },
   "file_extension": ".py",
   "mimetype": "text/x-python",
   "name": "python",
   "nbconvert_exporter": "python",
   "pygments_lexer": "ipython3",
   "version": "3.6.9"
  }
 },
 "nbformat": 4,
 "nbformat_minor": 4
}
